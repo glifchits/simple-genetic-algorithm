{
 "cells": [
  {
   "cell_type": "markdown",
   "metadata": {},
   "source": [
    "# Simple Genetic Algorithms\n",
    "\n",
    "## Overview\n",
    "\n",
    "Simple genetic algorithms work with a **coding of the parameter set**.\n",
    "\n",
    "Given an initial random population, SGA uses 3 operators:\n",
    "\n",
    "1. Reproduction\n",
    "2. Crossover\n",
    "3. Mutation\n",
    "\n",
    "\n",
    "## Objective Functions\n",
    "\n",
    "The following are the given test objective functions.\n",
    "\n",
    "\n",
    "### De Jong's Function\n",
    "\n",
    "(see http://www.geatbx.com/download/GEATbx_ObjFunExpl_v38.pdf page 3)\n",
    "\n",
    "$$ f_1(x) = \\sum_{i=1}^n x_i^2 \\qquad -5.12 \\leq x_i \\leq 5.12 $$\n",
    "\n",
    "### Rosenbrock's Valley\n",
    "\n",
    "(see http://www.geatbx.com/download/GEATbx_ObjFunExpl_v38.pdf page 5)\n",
    "\n",
    "$$ f_2(x) = \\sum_{i=1}^{n-1} 100 \\cdot (x_{i+1} - x_i^2)^2 + (1-x_i)^2  \\qquad  -2.048 \\leq x_i \\leq 2.048 $$\n",
    "\n",
    "### Himmelblau's Function\n",
    "\n",
    "(see https://en.wikipedia.org/wiki/Himmelblau%27s_function)\n",
    "\n",
    "$$ f(x, y) = (x^2 + y - 11)^2 + (x + y^2 - 7)^2 $$"
   ]
  },
  {
   "cell_type": "code",
   "execution_count": 34,
   "metadata": {
    "collapsed": false
   },
   "outputs": [
    {
     "name": "stdout",
     "output_type": "stream",
     "text": [
      "{'10111', '00110', '11011', '10011', '11000'}\n"
     ]
    }
   ],
   "source": [
    "import random\n",
    "\n",
    "\n",
    "def random_string(length):\n",
    "    return ''.join('0' if random.random() > 0.5 else '1' for _ in range(length))\n",
    "    \n",
    "\n",
    "def generate_sample_population(number=4, length=5):\n",
    "    \"\"\"\n",
    "    Returns a random set of binary strings.\n",
    "    :param number: [int=4] number of strings to return\n",
    "    :param length: [int=5] length of the strings to return\n",
    "    \"\"\"\n",
    "    s = set()\n",
    "    while len(s) < length:\n",
    "        s.add(random_string(length))\n",
    "    return s"
   ]
  }
 ],
 "metadata": {
  "kernelspec": {
   "display_name": "Python 3",
   "language": "python",
   "name": "python3"
  },
  "language_info": {
   "codemirror_mode": {
    "name": "ipython",
    "version": 3
   },
   "file_extension": ".py",
   "mimetype": "text/x-python",
   "name": "python",
   "nbconvert_exporter": "python",
   "pygments_lexer": "ipython3",
   "version": "3.5.0"
  }
 },
 "nbformat": 4,
 "nbformat_minor": 0
}
